{
 "cells": [
  {
   "cell_type": "code",
   "execution_count": 28,
   "id": "9dadc915",
   "metadata": {},
   "outputs": [],
   "source": [
    "def deposit(balance,amount):\n",
    "    balance = bal + amt\n",
    "    \n",
    "    \n",
    "    return balance"
   ]
  },
  {
   "cell_type": "code",
   "execution_count": 29,
   "id": "c4a3b6e1",
   "metadata": {},
   "outputs": [],
   "source": [
    "def withdraw(balance, amount):\n",
    "    if amount<balance:\n",
    "        balance = balance-amount\n",
    "        return balance\n",
    "    else:\n",
    "        print(\"Insufficient amount\")"
   ]
  },
  {
   "cell_type": "code",
   "execution_count": 30,
   "id": "73ed3b5e",
   "metadata": {},
   "outputs": [],
   "source": [
    "def Transfer(balance,amount):\n",
    "    if amount < balance:\n",
    "        balance = balance-amount\n",
    "        return balance\n",
    "    else:\n",
    "        print(\"Insuffiecient balance\")"
   ]
  },
  {
   "cell_type": "code",
   "execution_count": 31,
   "id": "2c9b8d98",
   "metadata": {},
   "outputs": [],
   "source": [
    "def minState(info):\n",
    "    print(info)"
   ]
  },
  {
   "cell_type": "code",
   "execution_count": 32,
   "id": "06502f15",
   "metadata": {},
   "outputs": [],
   "source": [
    "def showBal(val,val1,val2):\n",
    "\n",
    "    print(f\"Your have {val} {val1} and current balance is {val2}\")\n",
    "   "
   ]
  },
  {
   "cell_type": "code",
   "execution_count": 33,
   "id": "c9fbf4d6",
   "metadata": {},
   "outputs": [
    {
     "name": "stdout",
     "output_type": "stream",
     "text": [
      "Enter your pin1234\n",
      "\n",
      "1.Deposit\n",
      "2.Withdraw\n",
      "3.Transfer\n",
      "4.MinState\n",
      "5.Exit\n",
      "Enter your choice : 1\n",
      "Enter amt500\n",
      "Your have deposited 500 and current balance is 2500\n",
      "\n",
      "1.Deposit\n",
      "2.Withdraw\n",
      "3.Transfer\n",
      "4.MinState\n",
      "5.Exit\n",
      "Enter your choice : 2\n",
      "Enter amt600\n",
      "Your have withdraw 600 and current balance is 1900\n",
      "\n",
      "1.Deposit\n",
      "2.Withdraw\n",
      "3.Transfer\n",
      "4.MinState\n",
      "5.Exit\n",
      "Enter your choice : 3\n",
      "Enter amt400\n",
      "Your have Transfer 400 and current balance is 1500\n",
      "\n",
      "1.Deposit\n",
      "2.Withdraw\n",
      "3.Transfer\n",
      "4.MinState\n",
      "5.Exit\n",
      "Enter your choice : 4\n",
      "Your last Transactions:\n",
      "['deposited: 500', 'withdraw: 600', 'Transfer: 400']\n",
      "\n",
      "1.Deposit\n",
      "2.Withdraw\n",
      "3.Transfer\n",
      "4.MinState\n",
      "5.Exit\n",
      "Enter your choice : 5\n"
     ]
    }
   ],
   "source": [
    "bal = 2000\n",
    "data = []\n",
    "pin = int(input(\"Enter your pin\"))\n",
    "if(pin == 1234):\n",
    "    while(True):\n",
    "        print(\"\\n1.Deposit\\n2.Withdraw\\n3.Transfer\\n4.MinState\\n5.Exit\")\n",
    "        ch = int(input(\"Enter your choice : \"))\n",
    "        if ch == 1:\n",
    "            amt = int(input(\"Enter amt\"))\n",
    "            bal = deposit(bal,amt)\n",
    "            showBal('deposited',amt,bal)\n",
    "            data.append('deposited: '+str(amt))\n",
    "        elif ch == 2:\n",
    "            amt = int(input(\"Enter amt\"))\n",
    "            bal = withdraw(bal,amt)\n",
    "            showBal('withdraw',amt,bal)\n",
    "            data.append('withdraw: '+str(amt))\n",
    "        elif ch == 3:\n",
    "            amt = int(input(\"Enter amt\"))\n",
    "            bal = Transfer(bal,amt)\n",
    "            showBal('Transfer',amt,bal)\n",
    "            data.append('Transfer: '+str(amt))\n",
    "        elif ch == 4:\n",
    "            print(\"Your last Transactions:\")\n",
    "            minState(data)\n",
    "            \n",
    "    \n",
    "        elif ch == 5:\n",
    "            break\n",
    "        \n",
    "        \n",
    "else:\n",
    "    print(\"Invalid pin\")"
   ]
  },
  {
   "cell_type": "code",
   "execution_count": null,
   "id": "cfd5d5c9",
   "metadata": {},
   "outputs": [],
   "source": []
  },
  {
   "cell_type": "code",
   "execution_count": null,
   "id": "4168f851",
   "metadata": {},
   "outputs": [],
   "source": []
  }
 ],
 "metadata": {
  "kernelspec": {
   "display_name": "Python 3 (ipykernel)",
   "language": "python",
   "name": "python3"
  },
  "language_info": {
   "codemirror_mode": {
    "name": "ipython",
    "version": 3
   },
   "file_extension": ".py",
   "mimetype": "text/x-python",
   "name": "python",
   "nbconvert_exporter": "python",
   "pygments_lexer": "ipython3",
   "version": "3.9.13"
  }
 },
 "nbformat": 4,
 "nbformat_minor": 5
}
