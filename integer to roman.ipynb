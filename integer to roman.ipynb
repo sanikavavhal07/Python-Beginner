{
 "cells": [
  {
   "cell_type": "code",
   "execution_count": 1,
   "id": "3de1bd65-69fb-4a81-be9c-b809730588dd",
   "metadata": {},
   "outputs": [
    {
     "name": "stdin",
     "output_type": "stream",
     "text": [
      "Enter any number :  1994\n"
     ]
    },
    {
     "name": "stdout",
     "output_type": "stream",
     "text": [
      "MCMXCIV\n"
     ]
    }
   ],
   "source": [
    "# integer to roman\n",
    "input = int(input(\"Enter any number : \"))\n",
    "list = [(1000,'M'), (900,'CM'),(500,'D'),(400,'CD'),(100,'C'),(90,'XC'),(50,'L'),(10,'X'),(9,'IX'),(8,'VIII'),(7,'VII'),(6,'VI'),(5,'V'),(4,'IV'),(3,'III'),(2,'II'),(1,'I')]\n",
    "res = \"\"\n",
    "for num, char in list:\n",
    "    while input >= num:\n",
    "        res += char\n",
    "        input -= num\n",
    "print(res)"
   ]
  },
  {
   "cell_type": "code",
   "execution_count": null,
   "id": "850bd969-43e0-4106-9a0b-01fd3096b3b8",
   "metadata": {},
   "outputs": [],
   "source": []
  }
 ],
 "metadata": {
  "kernelspec": {
   "display_name": "Python 3 (ipykernel)",
   "language": "python",
   "name": "python3"
  },
  "language_info": {
   "codemirror_mode": {
    "name": "ipython",
    "version": 3
   },
   "file_extension": ".py",
   "mimetype": "text/x-python",
   "name": "python",
   "nbconvert_exporter": "python",
   "pygments_lexer": "ipython3",
   "version": "3.12.4"
  }
 },
 "nbformat": 4,
 "nbformat_minor": 5
}
